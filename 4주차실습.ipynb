{
  "cells": [
    {
      "cell_type": "markdown",
      "metadata": {
        "id": "view-in-github",
        "colab_type": "text"
      },
      "source": [
        "<a href=\"https://colab.research.google.com/github/inwoo01/math2/blob/main/4%EC%A3%BC%EC%B0%A8%EC%8B%A4%EC%8A%B5.ipynb\" target=\"_parent\"><img src=\"https://colab.research.google.com/assets/colab-badge.svg\" alt=\"Open In Colab\"/></a>"
      ]
    },
    {
      "cell_type": "code",
      "execution_count": null,
      "metadata": {
        "colab": {
          "base_uri": "https://localhost:8080/"
        },
        "id": "5j18STZeMjV2",
        "outputId": "b0e1b2dd-2ee5-4d5d-d44f-f15b4fac9b6e"
      },
      "outputs": [
        {
          "name": "stdout",
          "output_type": "stream",
          "text": [
            "3\n",
            "<class 'numpy.int64'>\n",
            "<class 'numpy.int64'>\n",
            "<class 'numpy.int64'>\n"
          ]
        }
      ],
      "source": [
        "import numpy as np\n",
        "\n",
        "A=np.array([1,2,3])\n",
        "\n",
        "print(len(A))\n",
        "print(type(A[0]))\n",
        "print(type(A[1]))\n",
        "print(type(A[2]))"
      ]
    },
    {
      "cell_type": "code",
      "execution_count": null,
      "metadata": {
        "colab": {
          "background_save": true,
          "base_uri": "https://localhost:8080/",
          "height": 237
        },
        "id": "NfHM4iYiPeme",
        "outputId": "727fbd30-8608-450c-ddb0-7958c32e6a25"
      },
      "outputs": [
        {
          "ename": "ValueError",
          "evalue": "setting an array element with a sequence. The requested array has an inhomogeneous shape after 1 dimensions. The detected shape was (2,) + inhomogeneous part.",
          "output_type": "error",
          "traceback": [
            "\u001b[0;31m---------------------------------------------------------------------------\u001b[0m",
            "\u001b[0;31mValueError\u001b[0m                                Traceback (most recent call last)",
            "\u001b[0;32m<ipython-input-43-83ccc2cf5143>\u001b[0m in \u001b[0;36m<cell line: 3>\u001b[0;34m()\u001b[0m\n\u001b[1;32m      1\u001b[0m \u001b[0;32mimport\u001b[0m \u001b[0mnumpy\u001b[0m \u001b[0;32mas\u001b[0m \u001b[0mnp\u001b[0m\u001b[0;34m\u001b[0m\u001b[0;34m\u001b[0m\u001b[0m\n\u001b[1;32m      2\u001b[0m \u001b[0;34m\u001b[0m\u001b[0m\n\u001b[0;32m----> 3\u001b[0;31m \u001b[0mB\u001b[0m\u001b[0;34m=\u001b[0m\u001b[0mnp\u001b[0m\u001b[0;34m.\u001b[0m\u001b[0marray\u001b[0m\u001b[0;34m(\u001b[0m\u001b[0;34m[\u001b[0m\u001b[0;34m[\u001b[0m\u001b[0;36m1\u001b[0m\u001b[0;34m,\u001b[0m\u001b[0;36m2\u001b[0m\u001b[0;34m,\u001b[0m\u001b[0;36m3\u001b[0m\u001b[0;34m]\u001b[0m\u001b[0;34m,\u001b[0m\u001b[0;34m[\u001b[0m\u001b[0;36m4\u001b[0m\u001b[0;34m,\u001b[0m\u001b[0;36m5\u001b[0m\u001b[0;34m]\u001b[0m\u001b[0;34m]\u001b[0m\u001b[0;34m)\u001b[0m\u001b[0;34m\u001b[0m\u001b[0;34m\u001b[0m\u001b[0m\n\u001b[0m\u001b[1;32m      4\u001b[0m \u001b[0mprint\u001b[0m\u001b[0;34m(\u001b[0m\u001b[0mB\u001b[0m\u001b[0;34m)\u001b[0m\u001b[0;34m\u001b[0m\u001b[0;34m\u001b[0m\u001b[0m\n\u001b[1;32m      5\u001b[0m \u001b[0;34m\u001b[0m\u001b[0m\n",
            "\u001b[0;31mValueError\u001b[0m: setting an array element with a sequence. The requested array has an inhomogeneous shape after 1 dimensions. The detected shape was (2,) + inhomogeneous part."
          ]
        }
      ],
      "source": [
        "import numpy as np\n",
        "\n",
        "B=np.array([[1,2,3],[4,5]])\n",
        "\n",
        "print(B)\n",
        "print(len(B[0]))\n",
        "print(len(B[1]))"
      ]
    },
    {
      "cell_type": "code",
      "execution_count": null,
      "metadata": {
        "colab": {
          "base_uri": "https://localhost:8080/"
        },
        "id": "D-4VXS2GZXL5",
        "outputId": "72deb4ba-2f82-4a1d-e1ac-ca220d34528b"
      },
      "outputs": [
        {
          "name": "stdout",
          "output_type": "stream",
          "text": [
            "[0, 0, 0]\n"
          ]
        }
      ],
      "source": [
        "\n",
        "A=[1,2,3]\n",
        "B=[-1,-2,-3]\n",
        "C=[]\n",
        "\n",
        "for a,b in zip(A,B):\n",
        "  C.append(a+b)\n",
        "\n",
        "print(C)"
      ]
    },
    {
      "cell_type": "code",
      "execution_count": null,
      "metadata": {
        "colab": {
          "base_uri": "https://localhost:8080/"
        },
        "id": "cbIuxeLeZ4Z5",
        "outputId": "a4ea260d-5fed-499f-e9e4-849d3bb28954"
      },
      "outputs": [
        {
          "name": "stdout",
          "output_type": "stream",
          "text": [
            "[0 0 0]\n"
          ]
        }
      ],
      "source": [
        "import numpy as np\n",
        "\n",
        "A=np.array([1,2,3])\n",
        "B=np.array([-1,-2,-3])\n",
        "C=A+B\n",
        "\n",
        "print(C)"
      ]
    },
    {
      "cell_type": "code",
      "execution_count": null,
      "metadata": {
        "colab": {
          "base_uri": "https://localhost:8080/"
        },
        "id": "CQ1MnRPMaszU",
        "outputId": "299b8405-d52d-46f7-ae67-8b6bc41ce09a"
      },
      "outputs": [
        {
          "data": {
            "text/plain": [
              "6"
            ]
          },
          "execution_count": 20,
          "metadata": {},
          "output_type": "execute_result"
        }
      ],
      "source": [
        "import numpy as np\n",
        "\n",
        "A=np.array([[1,2,3],\n",
        "           [4,5,6]])\n",
        "A.size"
      ]
    },
    {
      "cell_type": "code",
      "execution_count": null,
      "metadata": {
        "colab": {
          "base_uri": "https://localhost:8080/"
        },
        "id": "UJLkloAXbveL",
        "outputId": "d34bd09d-79f6-4e65-9997-db78b2c015a5"
      },
      "outputs": [
        {
          "data": {
            "text/plain": [
              "8"
            ]
          },
          "execution_count": 22,
          "metadata": {},
          "output_type": "execute_result"
        }
      ],
      "source": [
        "import numpy as np\n",
        "A=np.array([[1,2,3],\n",
        "         [4,5,6]])\n",
        "A.itemsize"
      ]
    },
    {
      "cell_type": "code",
      "execution_count": null,
      "metadata": {
        "colab": {
          "base_uri": "https://localhost:8080/"
        },
        "id": "C00r-3zSb5FQ",
        "outputId": "0da42efb-2ef9-4e4c-e5d9-a8b2fcd29531"
      },
      "outputs": [
        {
          "data": {
            "text/plain": [
              "<memory at 0x795c8fa875e0>"
            ]
          },
          "execution_count": 23,
          "metadata": {},
          "output_type": "execute_result"
        }
      ],
      "source": [
        "import numpy as np\n",
        "A=np.array([[1,2,3],\n",
        "          [4,5,6]])\n",
        "A.data"
      ]
    },
    {
      "cell_type": "code",
      "execution_count": null,
      "metadata": {
        "colab": {
          "base_uri": "https://localhost:8080/"
        },
        "id": "wLdzYyu8b_8B",
        "outputId": "1badc781-cb82-48c0-95af-778789dae802"
      },
      "outputs": [
        {
          "name": "stdout",
          "output_type": "stream",
          "text": [
            "6\n",
            "1\n",
            "21\n",
            "3.5\n"
          ]
        },
        {
          "data": {
            "text/plain": [
              "1.707825127659933"
            ]
          },
          "execution_count": 26,
          "metadata": {},
          "output_type": "execute_result"
        }
      ],
      "source": [
        "import numpy as np\n",
        "b=np.array([1,2,3,4,5,6])\n",
        "print(b.max())\n",
        "print(b.min())\n",
        "print(b.sum())\n",
        "print(b.mean())\n",
        "b.std()"
      ]
    },
    {
      "cell_type": "code",
      "execution_count": null,
      "metadata": {
        "colab": {
          "base_uri": "https://localhost:8080/"
        },
        "id": "XxlcK77Tcca1",
        "outputId": "dc0e9471-9bb7-4648-85f0-a5e0891e7acd"
      },
      "outputs": [
        {
          "name": "stdout",
          "output_type": "stream",
          "text": [
            "[[1 2]\n",
            " [3 4]]\n",
            "[4 6]\n",
            "[3 7]\n"
          ]
        }
      ],
      "source": [
        "import numpy as np\n",
        "c=np.array([[1,2],[3,4]])\n",
        "print(c)\n",
        "print(c.sum(axis=0)) #행 남기기\n",
        "print(c.sum(axis=1)) #열 남기기"
      ]
    },
    {
      "cell_type": "code",
      "execution_count": null,
      "metadata": {
        "colab": {
          "base_uri": "https://localhost:8080/"
        },
        "id": "xkGuBA-rdjJS",
        "outputId": "871b0de5-7e52-46ce-cf4a-ca8ad2081637"
      },
      "outputs": [
        {
          "name": "stdout",
          "output_type": "stream",
          "text": [
            "[[[ 0  1  2  3]\n",
            "  [ 4  5  6  7]\n",
            "  [ 8  9 10 11]]\n",
            "\n",
            " [[12 13 14 15]\n",
            "  [16 17 18 19]\n",
            "  [20 21 22 23]]]\n",
            "(2, 3, 4)\n"
          ]
        }
      ],
      "source": [
        "import numpy as np\n",
        "C=np.arange(24).reshape(2,3,4)\n",
        "print(C)\n",
        "print(C.shape)"
      ]
    },
    {
      "cell_type": "code",
      "execution_count": null,
      "metadata": {
        "id": "LkoIbAGLfd_1"
      },
      "outputs": [],
      "source": [
        "import timeit\n",
        "\n",
        "timeit.timeit('[]')"
      ]
    },
    {
      "cell_type": "code",
      "execution_count": null,
      "metadata": {
        "colab": {
          "base_uri": "https://localhost:8080/"
        },
        "id": "1Fp-KNrLfpHi",
        "outputId": "fb5cb098-408c-4b06-f24a-03ee0cc4dc1a"
      },
      "outputs": [
        {
          "name": "stdout",
          "output_type": "stream",
          "text": [
            "[[0. 0. 0.]\n",
            " [0. 0. 0.]]\n",
            "float64\n"
          ]
        }
      ],
      "source": [
        "import numpy as np\n",
        "A=np.zeros((2,3))\n",
        "print(A)\n",
        "print(A.dtype)"
      ]
    },
    {
      "cell_type": "code",
      "execution_count": null,
      "metadata": {
        "id": "dfn3Fym1f_AU"
      },
      "outputs": [],
      "source": []
    },
    {
      "cell_type": "code",
      "execution_count": null,
      "metadata": {
        "id": "anC41JByf_IP"
      },
      "outputs": [],
      "source": [
        "import numpy as np\n",
        "A=np.arange(0,50,5)\n",
        "print(A)\n",
        "B=np.arange(0.1,2.5)\n",
        "print(B)\n",
        "C=np.arange(10)\n",
        "print(C)"
      ]
    },
    {
      "cell_type": "code",
      "execution_count": null,
      "metadata": {
        "colab": {
          "base_uri": "https://localhost:8080/"
        },
        "id": "RirFEYTcgVrh",
        "outputId": "cf6b815a-a214-4e2c-ddba-fcb581321238"
      },
      "outputs": [
        {
          "name": "stdout",
          "output_type": "stream",
          "text": [
            "[ 0.          1.11111111  2.22222222  3.33333333  4.44444444  5.55555556\n",
            "  6.66666667  7.77777778  8.88888889 10.        ]\n",
            "[  0.           2.04081633   4.08163265   6.12244898   8.16326531\n",
            "  10.20408163  12.24489796  14.28571429  16.32653061  18.36734694\n",
            "  20.40816327  22.44897959  24.48979592  26.53061224  28.57142857\n",
            "  30.6122449   32.65306122  34.69387755  36.73469388  38.7755102\n",
            "  40.81632653  42.85714286  44.89795918  46.93877551  48.97959184\n",
            "  51.02040816  53.06122449  55.10204082  57.14285714  59.18367347\n",
            "  61.2244898   63.26530612  65.30612245  67.34693878  69.3877551\n",
            "  71.42857143  73.46938776  75.51020408  77.55102041  79.59183673\n",
            "  81.63265306  83.67346939  85.71428571  87.75510204  89.79591837\n",
            "  91.83673469  93.87755102  95.91836735  97.95918367 100.        ]\n"
          ]
        }
      ],
      "source": [
        "import numpy as np\n",
        "A=np.linspace(0,10,10)\n",
        "print(A)\n",
        "B=np.linspace(0,100)\n",
        "print(B)"
      ]
    },
    {
      "cell_type": "code",
      "execution_count": null,
      "metadata": {
        "colab": {
          "base_uri": "https://localhost:8080/"
        },
        "id": "X7ar9ZzEguMC",
        "outputId": "3acbca36-3025-4ec4-e8dc-da773bf839a9"
      },
      "outputs": [
        {
          "name": "stdout",
          "output_type": "stream",
          "text": [
            "[[ 0  1  2  3]\n",
            " [ 4  5  6  7]\n",
            " [ 8  9 10 11]\n",
            " [12 13 14 15]]\n",
            "(4, 4)\n",
            "[ 0  1  2  3  4  5  6  7  8  9 10 11 12 13 14 15]\n",
            "True\n",
            "[-1 -1 -1 -1  4  5  6  7  8  9 10 11 12 13 14 15]\n",
            "[[-1 -1 -1 -1]\n",
            " [ 4  5  6  7]\n",
            " [ 8  9 10 11]\n",
            " [12 13 14 15]]\n",
            "[[-1 -1 -1 -1  4  5  6  7]\n",
            " [ 8  9 10 11 12 13 14 15]]\n",
            "(2, 8)\n",
            "[[-1 -1 -1 -1]\n",
            " [ 4  5  6  7]\n",
            " [ 8  9 10 11]\n",
            " [12 13 14 15]]\n",
            "[[ 0  0  0  0  0  0  0  0]\n",
            " [ 8  9 10 11 12 13 14 15]]\n"
          ]
        }
      ],
      "source": [
        "import numpy as np\n",
        "A=np.arange(16)\n",
        "B=A.reshape(4,4)\n",
        "print(B)\n",
        "print(B.shape)\n",
        "print(B.base)\n",
        "print(B.base is A)\n",
        "\n",
        "B[0]=-1\n",
        "print(A)\n",
        "print(B)\n",
        "\n",
        "C=B.reshape(2,8).copy()\n",
        "print(C)\n",
        "print(C.shape)\n",
        "C[0]=0\n",
        "print(B)\n",
        "print(C)"
      ]
    },
    {
      "cell_type": "code",
      "execution_count": 2,
      "metadata": {
        "id": "E3it1wUthO4N",
        "colab": {
          "base_uri": "https://localhost:8080/"
        },
        "outputId": "6a975c5a-3a58-47ea-b786-a79e97be5d53"
      },
      "outputs": [
        {
          "output_type": "stream",
          "name": "stdout",
          "text": [
            "[[2 4]\n",
            " [6 8]]\n",
            "[[2 2]\n",
            " [2 2]]\n",
            "[[ 4  6]\n",
            " [ 8 10]]\n",
            "[[0 2]\n",
            " [4 6]]\n",
            "[[ 4  8]\n",
            " [12 16]]\n",
            "[[1. 2.]\n",
            " [3. 4.]]\n"
          ]
        }
      ],
      "source": [
        "import numpy as np\n",
        "A=np.array([2,4,6,8]).reshape(2,2)\n",
        "B=np.array([2,2,2,2]).reshape(2,2)\n",
        "\n",
        "print(A)\n",
        "print(B)\n",
        "print(A+B)\n",
        "print(A-B)\n",
        "print(A*B)\n",
        "print(A/B)"
      ]
    },
    {
      "cell_type": "code",
      "source": [
        "import numpy as np\n",
        "\n",
        "A=np.arange(10,130,10).reshape(3,4)\n",
        "print(A)\n",
        "B=np.arange(1,5)\n",
        "print(B)\n",
        "print(A+B)"
      ],
      "metadata": {
        "colab": {
          "base_uri": "https://localhost:8080/"
        },
        "id": "0WL-rQ2SD-Y5",
        "outputId": "d7279d2b-9344-4e8f-880e-23b5ef9e3871"
      },
      "execution_count": 13,
      "outputs": [
        {
          "output_type": "stream",
          "name": "stdout",
          "text": [
            "[[ 10  20  30  40]\n",
            " [ 50  60  70  80]\n",
            " [ 90 100 110 120]]\n",
            "[1 2 3 4]\n",
            "[[ 11  22  33  44]\n",
            " [ 51  62  73  84]\n",
            " [ 91 102 113 124]]\n"
          ]
        }
      ]
    }
  ],
  "metadata": {
    "colab": {
      "provenance": [],
      "authorship_tag": "ABX9TyOzDIYy5BOY+DBlPYcpFeso",
      "include_colab_link": true
    },
    "kernelspec": {
      "display_name": "Python 3",
      "name": "python3"
    },
    "language_info": {
      "name": "python"
    }
  },
  "nbformat": 4,
  "nbformat_minor": 0
}