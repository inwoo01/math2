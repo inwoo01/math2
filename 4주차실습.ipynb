{
  "cells": [
    {
      "cell_type": "markdown",
      "metadata": {
        "id": "view-in-github",
        "colab_type": "text"
      },
      "source": [
        "<a href=\"https://colab.research.google.com/github/inwoo01/math2/blob/main/4%EC%A3%BC%EC%B0%A8%EC%8B%A4%EC%8A%B5.ipynb\" target=\"_parent\"><img src=\"https://colab.research.google.com/assets/colab-badge.svg\" alt=\"Open In Colab\"/></a>"
      ]
    },
    {
      "cell_type": "code",
      "execution_count": null,
      "metadata": {
        "colab": {
          "base_uri": "https://localhost:8080/"
        },
        "id": "5j18STZeMjV2",
        "outputId": "b0e1b2dd-2ee5-4d5d-d44f-f15b4fac9b6e"
      },
      "outputs": [
        {
          "name": "stdout",
          "output_type": "stream",
          "text": [
            "3\n",
            "<class 'numpy.int64'>\n",
            "<class 'numpy.int64'>\n",
            "<class 'numpy.int64'>\n"
          ]
        }
      ],
      "source": [
        "import numpy as np\n",
        "\n",
        "A=np.array([1,2,3])\n",
        "\n",
        "print(len(A))\n",
        "print(type(A[0]))\n",
        "print(type(A[1]))\n",
        "print(type(A[2]))"
      ]
    },
    {
      "cell_type": "code",
      "execution_count": null,
      "metadata": {
        "colab": {
          "background_save": true,
          "base_uri": "https://localhost:8080/",
          "height": 237
        },
        "id": "NfHM4iYiPeme",
        "outputId": "727fbd30-8608-450c-ddb0-7958c32e6a25"
      },
      "outputs": [
        {
          "ename": "ValueError",
          "evalue": "setting an array element with a sequence. The requested array has an inhomogeneous shape after 1 dimensions. The detected shape was (2,) + inhomogeneous part.",
          "output_type": "error",
          "traceback": [
            "\u001b[0;31m---------------------------------------------------------------------------\u001b[0m",
            "\u001b[0;31mValueError\u001b[0m                                Traceback (most recent call last)",
            "\u001b[0;32m<ipython-input-43-83ccc2cf5143>\u001b[0m in \u001b[0;36m<cell line: 3>\u001b[0;34m()\u001b[0m\n\u001b[1;32m      1\u001b[0m \u001b[0;32mimport\u001b[0m \u001b[0mnumpy\u001b[0m \u001b[0;32mas\u001b[0m \u001b[0mnp\u001b[0m\u001b[0;34m\u001b[0m\u001b[0;34m\u001b[0m\u001b[0m\n\u001b[1;32m      2\u001b[0m \u001b[0;34m\u001b[0m\u001b[0m\n\u001b[0;32m----> 3\u001b[0;31m \u001b[0mB\u001b[0m\u001b[0;34m=\u001b[0m\u001b[0mnp\u001b[0m\u001b[0;34m.\u001b[0m\u001b[0marray\u001b[0m\u001b[0;34m(\u001b[0m\u001b[0;34m[\u001b[0m\u001b[0;34m[\u001b[0m\u001b[0;36m1\u001b[0m\u001b[0;34m,\u001b[0m\u001b[0;36m2\u001b[0m\u001b[0;34m,\u001b[0m\u001b[0;36m3\u001b[0m\u001b[0;34m]\u001b[0m\u001b[0;34m,\u001b[0m\u001b[0;34m[\u001b[0m\u001b[0;36m4\u001b[0m\u001b[0;34m,\u001b[0m\u001b[0;36m5\u001b[0m\u001b[0;34m]\u001b[0m\u001b[0;34m]\u001b[0m\u001b[0;34m)\u001b[0m\u001b[0;34m\u001b[0m\u001b[0;34m\u001b[0m\u001b[0m\n\u001b[0m\u001b[1;32m      4\u001b[0m \u001b[0mprint\u001b[0m\u001b[0;34m(\u001b[0m\u001b[0mB\u001b[0m\u001b[0;34m)\u001b[0m\u001b[0;34m\u001b[0m\u001b[0;34m\u001b[0m\u001b[0m\n\u001b[1;32m      5\u001b[0m \u001b[0;34m\u001b[0m\u001b[0m\n",
            "\u001b[0;31mValueError\u001b[0m: setting an array element with a sequence. The requested array has an inhomogeneous shape after 1 dimensions. The detected shape was (2,) + inhomogeneous part."
          ]
        }
      ],
      "source": [
        "import numpy as np\n",
        "\n",
        "B=np.array([[1,2,3],[4,5]])\n",
        "\n",
        "print(B)\n",
        "print(len(B[0]))\n",
        "print(len(B[1]))"
      ]
    },
    {
      "cell_type": "code",
      "execution_count": null,
      "metadata": {
        "colab": {
          "base_uri": "https://localhost:8080/"
        },
        "id": "D-4VXS2GZXL5",
        "outputId": "72deb4ba-2f82-4a1d-e1ac-ca220d34528b"
      },
      "outputs": [
        {
          "name": "stdout",
          "output_type": "stream",
          "text": [
            "[0, 0, 0]\n"
          ]
        }
      ],
      "source": [
        "A=[1,2,3]\n",
        "B=[-1,-2,-3]\n",
        "C=[]\n",
        "\n",
        "for a,b in zip(A,B):\n",
        "  C.append(a+b)\n",
        "\n",
        "print(C)"
      ]
    },
    {
      "cell_type": "code",
      "execution_count": null,
      "metadata": {
        "colab": {
          "base_uri": "https://localhost:8080/"
        },
        "id": "cbIuxeLeZ4Z5",
        "outputId": "a4ea260d-5fed-499f-e9e4-849d3bb28954"
      },
      "outputs": [
        {
          "name": "stdout",
          "output_type": "stream",
          "text": [
            "[0 0 0]\n"
          ]
        }
      ],
      "source": [
        "import numpy as np\n",
        "\n",
        "A=np.array([1,2,3])\n",
        "B=np.array([-1,-2,-3])\n",
        "C=A+B\n",
        "\n",
        "print(C)"
      ]
    },
    {
      "cell_type": "code",
      "source": [
        "import numpy as np\n",
        "a=np.array([0.1,0.2,0.3])\n",
        "print(a)\n",
        "a.dtype\n",
        "dtype('float64')\n",
        "type(a[0])"
      ],
      "metadata": {
        "colab": {
          "base_uri": "https://localhost:8080/",
          "height": 237
        },
        "id": "SFi7rtup77zS",
        "outputId": "d0654e4a-8823-4a8d-9b7e-21b12760cf04"
      },
      "execution_count": null,
      "outputs": [
        {
          "output_type": "stream",
          "name": "stdout",
          "text": [
            "[0.1 0.2 0.3]\n"
          ]
        },
        {
          "output_type": "error",
          "ename": "NameError",
          "evalue": "name 'array' is not defined",
          "traceback": [
            "\u001b[0;31m---------------------------------------------------------------------------\u001b[0m",
            "\u001b[0;31mNameError\u001b[0m                                 Traceback (most recent call last)",
            "\u001b[0;32m<ipython-input-1-9dbf123db50a>\u001b[0m in \u001b[0;36m<cell line: 4>\u001b[0;34m()\u001b[0m\n\u001b[1;32m      2\u001b[0m \u001b[0ma\u001b[0m\u001b[0;34m=\u001b[0m\u001b[0mnp\u001b[0m\u001b[0;34m.\u001b[0m\u001b[0marray\u001b[0m\u001b[0;34m(\u001b[0m\u001b[0;34m[\u001b[0m\u001b[0;36m0.1\u001b[0m\u001b[0;34m,\u001b[0m\u001b[0;36m0.2\u001b[0m\u001b[0;34m,\u001b[0m\u001b[0;36m0.3\u001b[0m\u001b[0;34m]\u001b[0m\u001b[0;34m)\u001b[0m\u001b[0;34m\u001b[0m\u001b[0;34m\u001b[0m\u001b[0m\n\u001b[1;32m      3\u001b[0m \u001b[0mprint\u001b[0m\u001b[0;34m(\u001b[0m\u001b[0ma\u001b[0m\u001b[0;34m)\u001b[0m\u001b[0;34m\u001b[0m\u001b[0;34m\u001b[0m\u001b[0m\n\u001b[0;32m----> 4\u001b[0;31m \u001b[0marray\u001b[0m\u001b[0;34m(\u001b[0m\u001b[0;34m[\u001b[0m\u001b[0;36m0.1\u001b[0m\u001b[0;34m,\u001b[0m\u001b[0;36m0.2\u001b[0m\u001b[0;34m,\u001b[0m\u001b[0;36m0.3\u001b[0m\u001b[0;34m]\u001b[0m\u001b[0;34m)\u001b[0m\u001b[0;34m\u001b[0m\u001b[0;34m\u001b[0m\u001b[0m\n\u001b[0m\u001b[1;32m      5\u001b[0m \u001b[0ma\u001b[0m\u001b[0;34m.\u001b[0m\u001b[0mdtype\u001b[0m\u001b[0;34m\u001b[0m\u001b[0;34m\u001b[0m\u001b[0m\n\u001b[1;32m      6\u001b[0m \u001b[0mdtype\u001b[0m\u001b[0;34m(\u001b[0m\u001b[0;34m'float64'\u001b[0m\u001b[0;34m)\u001b[0m\u001b[0;34m\u001b[0m\u001b[0;34m\u001b[0m\u001b[0m\n",
            "\u001b[0;31mNameError\u001b[0m: name 'array' is not defined"
          ]
        }
      ]
    },
    {
      "cell_type": "code",
      "source": [],
      "metadata": {
        "id": "F-1bIIVJMkDA"
      },
      "execution_count": null,
      "outputs": []
    },
    {
      "cell_type": "code",
      "execution_count": null,
      "metadata": {
        "colab": {
          "base_uri": "https://localhost:8080/"
        },
        "id": "CQ1MnRPMaszU",
        "outputId": "299b8405-d52d-46f7-ae67-8b6bc41ce09a"
      },
      "outputs": [
        {
          "data": {
            "text/plain": [
              "6"
            ]
          },
          "execution_count": 20,
          "metadata": {},
          "output_type": "execute_result"
        }
      ],
      "source": [
        "import numpy as np\n",
        "\n",
        "A=np.array([[1,2,3],\n",
        "           [4,5,6]])\n",
        "A.size"
      ]
    },
    {
      "cell_type": "code",
      "execution_count": null,
      "metadata": {
        "colab": {
          "base_uri": "https://localhost:8080/"
        },
        "id": "UJLkloAXbveL",
        "outputId": "d34bd09d-79f6-4e65-9997-db78b2c015a5"
      },
      "outputs": [
        {
          "data": {
            "text/plain": [
              "8"
            ]
          },
          "execution_count": 22,
          "metadata": {},
          "output_type": "execute_result"
        }
      ],
      "source": [
        "import numpy as np\n",
        "A=np.array([[1,2,3],\n",
        "         [4,5,6]])\n",
        "A.itemsize"
      ]
    },
    {
      "cell_type": "code",
      "execution_count": null,
      "metadata": {
        "colab": {
          "base_uri": "https://localhost:8080/"
        },
        "id": "C00r-3zSb5FQ",
        "outputId": "0da42efb-2ef9-4e4c-e5d9-a8b2fcd29531"
      },
      "outputs": [
        {
          "data": {
            "text/plain": [
              "<memory at 0x795c8fa875e0>"
            ]
          },
          "execution_count": 23,
          "metadata": {},
          "output_type": "execute_result"
        }
      ],
      "source": [
        "import numpy as np\n",
        "A=np.array([[1,2,3],\n",
        "          [4,5,6]])\n",
        "A.data"
      ]
    },
    {
      "cell_type": "code",
      "execution_count": null,
      "metadata": {
        "colab": {
          "base_uri": "https://localhost:8080/"
        },
        "id": "wLdzYyu8b_8B",
        "outputId": "1badc781-cb82-48c0-95af-778789dae802"
      },
      "outputs": [
        {
          "name": "stdout",
          "output_type": "stream",
          "text": [
            "6\n",
            "1\n",
            "21\n",
            "3.5\n"
          ]
        },
        {
          "data": {
            "text/plain": [
              "1.707825127659933"
            ]
          },
          "execution_count": 26,
          "metadata": {},
          "output_type": "execute_result"
        }
      ],
      "source": [
        "import numpy as np\n",
        "b=np.array([1,2,3,4,5,6])\n",
        "print(b.max())\n",
        "print(b.min())\n",
        "print(b.sum())\n",
        "print(b.mean())\n",
        "b.std()"
      ]
    },
    {
      "cell_type": "code",
      "execution_count": null,
      "metadata": {
        "colab": {
          "base_uri": "https://localhost:8080/"
        },
        "id": "XxlcK77Tcca1",
        "outputId": "dc0e9471-9bb7-4648-85f0-a5e0891e7acd"
      },
      "outputs": [
        {
          "name": "stdout",
          "output_type": "stream",
          "text": [
            "[[1 2]\n",
            " [3 4]]\n",
            "[4 6]\n",
            "[3 7]\n"
          ]
        }
      ],
      "source": [
        "import numpy as np\n",
        "c=np.array([[1,2],[3,4]])\n",
        "print(c)\n",
        "print(c.sum(axis=0))\n",
        "print(c.sum(axis=1))"
      ]
    },
    {
      "cell_type": "code",
      "execution_count": null,
      "metadata": {
        "colab": {
          "base_uri": "https://localhost:8080/"
        },
        "id": "xkGuBA-rdjJS",
        "outputId": "871b0de5-7e52-46ce-cf4a-ca8ad2081637"
      },
      "outputs": [
        {
          "name": "stdout",
          "output_type": "stream",
          "text": [
            "[[[ 0  1  2  3]\n",
            "  [ 4  5  6  7]\n",
            "  [ 8  9 10 11]]\n",
            "\n",
            " [[12 13 14 15]\n",
            "  [16 17 18 19]\n",
            "  [20 21 22 23]]]\n",
            "(2, 3, 4)\n"
          ]
        }
      ],
      "source": [
        "import numpy as np\n",
        "C=np.arange(24).reshape(2,3,4)\n",
        "print(C)\n",
        "print(C.shape)"
      ]
    },
    {
      "cell_type": "code",
      "execution_count": null,
      "metadata": {
        "id": "LkoIbAGLfd_1",
        "colab": {
          "base_uri": "https://localhost:8080/"
        },
        "outputId": "89f6e7d1-edbd-4426-b777-b26b29a31098"
      },
      "outputs": [
        {
          "output_type": "execute_result",
          "data": {
            "text/plain": [
              "0.6829408540000088"
            ]
          },
          "metadata": {},
          "execution_count": 2
        }
      ],
      "source": [
        "import timeit\n",
        "\n",
        "\n",
        "timeit.timeit('B**2',setup='import numpy as np; B=np.arange(100)')"
      ]
    },
    {
      "cell_type": "code",
      "source": [
        "import timeit\n",
        "\n",
        "timeit.timeit('[i**2 for i in A]', setup='A=range(100)')"
      ],
      "metadata": {
        "colab": {
          "base_uri": "https://localhost:8080/"
        },
        "id": "XMiSTgF2ENod",
        "outputId": "4801defe-bb27-44e0-8a3a-2560e87138b0"
      },
      "execution_count": null,
      "outputs": [
        {
          "output_type": "execute_result",
          "data": {
            "text/plain": [
              "30.886524417999993"
            ]
          },
          "metadata": {},
          "execution_count": 3
        }
      ]
    },
    {
      "cell_type": "code",
      "execution_count": null,
      "metadata": {
        "colab": {
          "base_uri": "https://localhost:8080/"
        },
        "id": "1Fp-KNrLfpHi",
        "outputId": "fb5cb098-408c-4b06-f24a-03ee0cc4dc1a"
      },
      "outputs": [
        {
          "name": "stdout",
          "output_type": "stream",
          "text": [
            "[[0. 0. 0.]\n",
            " [0. 0. 0.]]\n",
            "float64\n"
          ]
        }
      ],
      "source": [
        "import numpy as np\n",
        "A=np.zeros((2,3))\n",
        "print(A)\n",
        "print(A.dtype)"
      ]
    },
    {
      "cell_type": "code",
      "execution_count": null,
      "metadata": {
        "id": "dfn3Fym1f_AU",
        "colab": {
          "base_uri": "https://localhost:8080/"
        },
        "outputId": "8b79ef4c-e9c9-4399-fbed-4c40dabb4bc8"
      },
      "outputs": [
        {
          "output_type": "stream",
          "name": "stdout",
          "text": [
            "[[1. 1. 1.]\n",
            " [1. 1. 1.]]\n",
            "float64\n"
          ]
        }
      ],
      "source": [
        "import numpy as np\n",
        "A=np.ones((2,3))\n",
        "print(A)\n",
        "print(A.dtype)"
      ]
    },
    {
      "cell_type": "code",
      "source": [
        "import numpy as np\n",
        "A=np.random.random((3,3))\n",
        "print(A)\n",
        "print(A.dtype)"
      ],
      "metadata": {
        "colab": {
          "base_uri": "https://localhost:8080/"
        },
        "id": "QdV7ZnKWbkzN",
        "outputId": "d590822a-9bbb-4217-d1c3-90fc0a950d8c"
      },
      "execution_count": null,
      "outputs": [
        {
          "output_type": "stream",
          "name": "stdout",
          "text": [
            "[[0.38562567 0.3987069  0.26196068]\n",
            " [0.10931545 0.96203268 0.95300282]\n",
            " [0.87753922 0.60475279 0.59357665]]\n",
            "float64\n"
          ]
        }
      ]
    },
    {
      "cell_type": "code",
      "source": [
        "import numpy as np\n",
        "A=np.random.randint(1,10,(2,2))\n",
        "print(A)\n",
        "print(A.dtype)"
      ],
      "metadata": {
        "colab": {
          "base_uri": "https://localhost:8080/"
        },
        "id": "HRwLop3kbk5r",
        "outputId": "34a0841d-addb-47e5-a048-fc80e87c111a"
      },
      "execution_count": null,
      "outputs": [
        {
          "output_type": "stream",
          "name": "stdout",
          "text": [
            "[[6 6]\n",
            " [4 6]]\n",
            "int64\n"
          ]
        }
      ]
    },
    {
      "cell_type": "code",
      "execution_count": null,
      "metadata": {
        "id": "anC41JByf_IP"
      },
      "outputs": [],
      "source": [
        "import numpy as np\n",
        "A=np.arange(0,50,5)\n",
        "print(A)\n",
        "B=np.arange(0.1,2.5)\n",
        "print(B)\n",
        "C=np.arange(10)\n",
        "print(C)"
      ]
    },
    {
      "cell_type": "code",
      "execution_count": null,
      "metadata": {
        "colab": {
          "base_uri": "https://localhost:8080/"
        },
        "id": "RirFEYTcgVrh",
        "outputId": "cf6b815a-a214-4e2c-ddba-fcb581321238"
      },
      "outputs": [
        {
          "name": "stdout",
          "output_type": "stream",
          "text": [
            "[ 0.          1.11111111  2.22222222  3.33333333  4.44444444  5.55555556\n",
            "  6.66666667  7.77777778  8.88888889 10.        ]\n",
            "[  0.           2.04081633   4.08163265   6.12244898   8.16326531\n",
            "  10.20408163  12.24489796  14.28571429  16.32653061  18.36734694\n",
            "  20.40816327  22.44897959  24.48979592  26.53061224  28.57142857\n",
            "  30.6122449   32.65306122  34.69387755  36.73469388  38.7755102\n",
            "  40.81632653  42.85714286  44.89795918  46.93877551  48.97959184\n",
            "  51.02040816  53.06122449  55.10204082  57.14285714  59.18367347\n",
            "  61.2244898   63.26530612  65.30612245  67.34693878  69.3877551\n",
            "  71.42857143  73.46938776  75.51020408  77.55102041  79.59183673\n",
            "  81.63265306  83.67346939  85.71428571  87.75510204  89.79591837\n",
            "  91.83673469  93.87755102  95.91836735  97.95918367 100.        ]\n"
          ]
        }
      ],
      "source": [
        "import numpy as np\n",
        "A=np.linspace(0,10,10)\n",
        "print(A)\n",
        "B=np.linspace(0,100)\n",
        "print(B)"
      ]
    },
    {
      "cell_type": "code",
      "execution_count": null,
      "metadata": {
        "colab": {
          "base_uri": "https://localhost:8080/"
        },
        "id": "X7ar9ZzEguMC",
        "outputId": "3acbca36-3025-4ec4-e8dc-da773bf839a9"
      },
      "outputs": [
        {
          "name": "stdout",
          "output_type": "stream",
          "text": [
            "[[ 0  1  2  3]\n",
            " [ 4  5  6  7]\n",
            " [ 8  9 10 11]\n",
            " [12 13 14 15]]\n",
            "(4, 4)\n",
            "[ 0  1  2  3  4  5  6  7  8  9 10 11 12 13 14 15]\n",
            "True\n",
            "[-1 -1 -1 -1  4  5  6  7  8  9 10 11 12 13 14 15]\n",
            "[[-1 -1 -1 -1]\n",
            " [ 4  5  6  7]\n",
            " [ 8  9 10 11]\n",
            " [12 13 14 15]]\n",
            "[[-1 -1 -1 -1  4  5  6  7]\n",
            " [ 8  9 10 11 12 13 14 15]]\n",
            "(2, 8)\n",
            "[[-1 -1 -1 -1]\n",
            " [ 4  5  6  7]\n",
            " [ 8  9 10 11]\n",
            " [12 13 14 15]]\n",
            "[[ 0  0  0  0  0  0  0  0]\n",
            " [ 8  9 10 11 12 13 14 15]]\n"
          ]
        }
      ],
      "source": [
        "import numpy as np\n",
        "A=np.arange(16)\n",
        "B=A.reshape(4,4)\n",
        "print(B)\n",
        "print(B.shape)\n",
        "print(B.base)\n",
        "print(B.base is A)\n",
        "\n",
        "B[0]=-1\n",
        "print(A)\n",
        "print(B)\n",
        "\n",
        "C=B.reshape(2,8).copy()\n",
        "print(C)\n",
        "print(C.shape)\n",
        "C[0]=0\n",
        "print(B)\n",
        "print(C)"
      ]
    },
    {
      "cell_type": "code",
      "source": [
        "import numpy as np\n",
        "\n",
        "A=np.array([[1,2],[3,4]])\n",
        "print(A)\n",
        "print(A.shape)\n",
        "B=A.ravel()\n",
        "print(B)\n",
        "print(B.shape)\n",
        "print(B.base)\n",
        "print(B.base is A)"
      ],
      "metadata": {
        "colab": {
          "base_uri": "https://localhost:8080/"
        },
        "id": "7rhKferLqaQT",
        "outputId": "b2d8e0a8-5316-45d5-ccca-89dd80b91e45"
      },
      "execution_count": null,
      "outputs": [
        {
          "output_type": "stream",
          "name": "stdout",
          "text": [
            "[[1 2]\n",
            " [3 4]]\n",
            "(2, 2)\n",
            "[1 2 3 4]\n",
            "(4,)\n",
            "[[1 2]\n",
            " [3 4]]\n",
            "True\n"
          ]
        }
      ]
    },
    {
      "cell_type": "code",
      "source": [
        "import numpy as np\n",
        "\n",
        "A=np.arange(12)\n",
        "print(A)\n",
        "A.resize(3,4)\n",
        "print(A)"
      ],
      "metadata": {
        "colab": {
          "base_uri": "https://localhost:8080/"
        },
        "id": "9cDIEb8-2776",
        "outputId": "2e5223fe-d4fe-4374-ca45-0e462c8583a0"
      },
      "execution_count": null,
      "outputs": [
        {
          "output_type": "stream",
          "name": "stdout",
          "text": [
            "[ 0  1  2  3  4  5  6  7  8  9 10 11]\n",
            "[[ 0  1  2  3]\n",
            " [ 4  5  6  7]\n",
            " [ 8  9 10 11]]\n"
          ]
        }
      ]
    },
    {
      "cell_type": "code",
      "source": [
        "import numpy as np\n",
        "\n",
        "A=np.array([1,2,3])\n",
        "A=A[:,np.newaxis]\n",
        "print(A.shape)\n",
        "print(A)\n",
        "\n",
        "B=np.array([4,5,6])\n",
        "B=B[:,np.newaxis]\n",
        "print(B.shape)\n",
        "print(B)"
      ],
      "metadata": {
        "colab": {
          "base_uri": "https://localhost:8080/"
        },
        "id": "BXrc0SJKz9eb",
        "outputId": "9e0eb8fe-baf5-42ab-dc61-7e788028b591"
      },
      "execution_count": null,
      "outputs": [
        {
          "output_type": "stream",
          "name": "stdout",
          "text": [
            "(3, 1)\n",
            "[[1]\n",
            " [2]\n",
            " [3]]\n",
            "(3, 1)\n",
            "[[4]\n",
            " [5]\n",
            " [6]]\n"
          ]
        }
      ]
    },
    {
      "cell_type": "code",
      "source": [
        "import numpy as np\n",
        "\n",
        "A=np.array([[1,2],[3,4]])\n",
        "B=np.array([[1,0],[0,1]])\n",
        "print(A)\n",
        "print(B)\n",
        "C=np.vstack((A,B))\n",
        "print(C)"
      ],
      "metadata": {
        "colab": {
          "base_uri": "https://localhost:8080/"
        },
        "id": "6xD1qGJv3_nh",
        "outputId": "70088a7f-6f17-4549-8eef-f153b7a9c27b"
      },
      "execution_count": null,
      "outputs": [
        {
          "output_type": "stream",
          "name": "stdout",
          "text": [
            "[[1 2]\n",
            " [3 4]]\n",
            "[[1 0]\n",
            " [0 1]]\n",
            "[[1 2]\n",
            " [3 4]\n",
            " [1 0]\n",
            " [0 1]]\n"
          ]
        }
      ]
    },
    {
      "cell_type": "code",
      "source": [
        "import numpy as np\n",
        "\n",
        "A=np.array([[1,2],[3,4]])\n",
        "B=np.array([[1,0],[0,1]])\n",
        "print(A)\n",
        "print(B)\n",
        "C=np.hstack((A,B))\n",
        "print(C)"
      ],
      "metadata": {
        "colab": {
          "base_uri": "https://localhost:8080/"
        },
        "id": "xxwEE5rr4U5D",
        "outputId": "6933168d-e67b-47cd-f338-e403dadba69a"
      },
      "execution_count": null,
      "outputs": [
        {
          "output_type": "stream",
          "name": "stdout",
          "text": [
            "[[1 2]\n",
            " [3 4]]\n",
            "[[1 0]\n",
            " [0 1]]\n",
            "[[1 2 1 0]\n",
            " [3 4 0 1]]\n"
          ]
        }
      ]
    },
    {
      "cell_type": "code",
      "source": [
        "import numpy as np\n",
        "A=np.array([1,2,3])\n",
        "B=np.array([4,5,6])\n",
        "C=np.array([7,8,9])\n",
        "\n",
        "E=np.column_stack((A,B,C))\n",
        "print(E)"
      ],
      "metadata": {
        "colab": {
          "base_uri": "https://localhost:8080/"
        },
        "id": "zs3Y37gL5tGv",
        "outputId": "83d02c63-6098-42f9-f8e7-349aee8da50c"
      },
      "execution_count": null,
      "outputs": [
        {
          "output_type": "stream",
          "name": "stdout",
          "text": [
            "[[1 4 7]\n",
            " [2 5 8]\n",
            " [3 6 9]]\n"
          ]
        }
      ]
    },
    {
      "cell_type": "code",
      "source": [
        "import numpy as np\n",
        "\n",
        "A=np.array([[1,2],[3,4]])\n",
        "B=np.array([[1,0],[0,1]])\n",
        "print(A)\n",
        "print(B)\n",
        "print(np.concatenate((A,B),axis=0))\n",
        "print(np.concatenate((A,B),axis=1))"
      ],
      "metadata": {
        "colab": {
          "base_uri": "https://localhost:8080/"
        },
        "id": "FSNkwvI-87Sv",
        "outputId": "26511093-71d8-4fe9-8227-c59a6aec094a"
      },
      "execution_count": null,
      "outputs": [
        {
          "output_type": "stream",
          "name": "stdout",
          "text": [
            "[[1 2]\n",
            " [3 4]]\n",
            "[[1 0]\n",
            " [0 1]]\n",
            "[[1 2]\n",
            " [3 4]\n",
            " [1 0]\n",
            " [0 1]]\n",
            "[[1 2 1 0]\n",
            " [3 4 0 1]]\n"
          ]
        }
      ]
    },
    {
      "cell_type": "code",
      "source": [
        "import numpy as np\n",
        "\n",
        "A=np.arange(9).reshape(3,3)\n",
        "a=np.hsplit(A,3)\n",
        "print(A)\n",
        "print(a)"
      ],
      "metadata": {
        "colab": {
          "base_uri": "https://localhost:8080/"
        },
        "id": "dMJddeK2PJul",
        "outputId": "3b15251d-db63-494c-948b-4e5ee456e074"
      },
      "execution_count": null,
      "outputs": [
        {
          "output_type": "stream",
          "name": "stdout",
          "text": [
            "[[0 1 2]\n",
            " [3 4 5]\n",
            " [6 7 8]]\n",
            "[array([[0],\n",
            "       [3],\n",
            "       [6]]), array([[1],\n",
            "       [4],\n",
            "       [7]]), array([[2],\n",
            "       [5],\n",
            "       [8]])]\n"
          ]
        }
      ]
    },
    {
      "cell_type": "code",
      "source": [
        "import numpy as np\n",
        "\n",
        "B=np.arange(18).reshape(3,6)\n",
        "print(B)\n",
        "b=np.hsplit(B,(2,5))\n",
        "print(b[0])\n",
        "print(b[1])\n",
        "print(b[2])"
      ],
      "metadata": {
        "colab": {
          "base_uri": "https://localhost:8080/"
        },
        "id": "dxELVh1EpW99",
        "outputId": "ca60cc0c-5fa5-452c-bb2a-19a52313a666"
      },
      "execution_count": null,
      "outputs": [
        {
          "output_type": "stream",
          "name": "stdout",
          "text": [
            "[[ 0  1  2  3  4  5]\n",
            " [ 6  7  8  9 10 11]\n",
            " [12 13 14 15 16 17]]\n",
            "[[ 0  1]\n",
            " [ 6  7]\n",
            " [12 13]]\n",
            "[[ 2  3  4]\n",
            " [ 8  9 10]\n",
            " [14 15 16]]\n",
            "[[ 5]\n",
            " [11]\n",
            " [17]]\n"
          ]
        }
      ]
    },
    {
      "cell_type": "code",
      "source": [
        "import numpy as np\n",
        "\n",
        "A=np.arange(9).reshape(3,3)\n",
        "a=np.vsplit(A,3)\n",
        "print(A)\n",
        "print(a)"
      ],
      "metadata": {
        "colab": {
          "base_uri": "https://localhost:8080/"
        },
        "id": "df4kwvwfqsI0",
        "outputId": "000b01a4-d436-4a67-87ab-86567a1d4674"
      },
      "execution_count": null,
      "outputs": [
        {
          "output_type": "stream",
          "name": "stdout",
          "text": [
            "[[0 1 2]\n",
            " [3 4 5]\n",
            " [6 7 8]]\n",
            "[array([[0, 1, 2]]), array([[3, 4, 5]]), array([[6, 7, 8]])]\n"
          ]
        }
      ]
    },
    {
      "cell_type": "code",
      "source": [
        "import numpy as np\n",
        "\n",
        "B=np.arange(24).reshape(6,4)\n",
        "print(B)\n",
        "b=np.vsplit(B,(1,4))\n",
        "print(b[0])\n",
        "print(b[1])\n",
        "print(b[2])"
      ],
      "metadata": {
        "colab": {
          "base_uri": "https://localhost:8080/"
        },
        "id": "zRBFhT4rqxuH",
        "outputId": "f1b3f5d2-3698-46fa-b002-cefc780a3360"
      },
      "execution_count": null,
      "outputs": [
        {
          "output_type": "stream",
          "name": "stdout",
          "text": [
            "[[ 0  1  2  3]\n",
            " [ 4  5  6  7]\n",
            " [ 8  9 10 11]\n",
            " [12 13 14 15]\n",
            " [16 17 18 19]\n",
            " [20 21 22 23]]\n",
            "[[0 1 2 3]]\n",
            "[[ 4  5  6  7]\n",
            " [ 8  9 10 11]\n",
            " [12 13 14 15]]\n",
            "[[16 17 18 19]\n",
            " [20 21 22 23]]\n"
          ]
        }
      ]
    },
    {
      "cell_type": "code",
      "source": [
        "import numpy as np\n",
        "\n",
        "A=np.arange(0,15,2)\n",
        "print(A)\n",
        "print(A[0:3])\n",
        "print(A[0:4])\n",
        "print(A[6:8])\n",
        "print(A[6:])\n",
        "print(A[:])\n",
        "print(A[::2])\n",
        "print(A[:-2])\n",
        "print(A[-2:])\n",
        "print(A[0:3].shape)\n",
        "print(A[0:3].ndim)\n",
        "A[0:3]=100\n",
        "print(A)"
      ],
      "metadata": {
        "colab": {
          "base_uri": "https://localhost:8080/"
        },
        "id": "5QpXMV00wHQ3",
        "outputId": "edbc5606-3580-4fd4-9d31-484746676b9d"
      },
      "execution_count": null,
      "outputs": [
        {
          "output_type": "stream",
          "name": "stdout",
          "text": [
            "[ 0  2  4  6  8 10 12 14]\n",
            "[0 2 4]\n",
            "[0 2 4 6]\n",
            "[12 14]\n",
            "[12 14]\n",
            "[ 0  2  4  6  8 10 12 14]\n",
            "[ 0  4  8 12]\n",
            "[ 0  2  4  6  8 10]\n",
            "[12 14]\n",
            "(3,)\n",
            "1\n",
            "[100 100 100   6   8  10  12  14]\n"
          ]
        }
      ]
    },
    {
      "cell_type": "code",
      "source": [
        "import numpy as np\n",
        "\n",
        "A=np.array([[1,2,3,4],[5,6,7,8],[9,10,11,12]])\n",
        "print(A)\n",
        "print(A.shape)\n",
        "print(A[1,2],A[1][2])\n",
        "print(A[0],A[0:])\n",
        "print(A[1],A[1:])\n",
        "print(A[:0])\n",
        "print(A[:1])\n",
        "A[:2,:2]=0\n",
        "print(A)"
      ],
      "metadata": {
        "colab": {
          "base_uri": "https://localhost:8080/"
        },
        "id": "eYO_4_he0PB5",
        "outputId": "3937a317-a1d5-4028-ab5d-935edf709244"
      },
      "execution_count": null,
      "outputs": [
        {
          "output_type": "stream",
          "name": "stdout",
          "text": [
            "[[ 1  2  3  4]\n",
            " [ 5  6  7  8]\n",
            " [ 9 10 11 12]]\n",
            "(3, 4)\n",
            "7 7\n",
            "[1 2 3 4] [[ 1  2  3  4]\n",
            " [ 5  6  7  8]\n",
            " [ 9 10 11 12]]\n",
            "[5 6 7 8] [[ 5  6  7  8]\n",
            " [ 9 10 11 12]]\n",
            "[]\n",
            "[[1 2 3 4]]\n",
            "[[ 0  0  3  4]\n",
            " [ 0  0  7  8]\n",
            " [ 9 10 11 12]]\n"
          ]
        }
      ]
    },
    {
      "cell_type": "code",
      "source": [
        "import numpy as np\n",
        "\n",
        "A=np.arange(12)\n",
        "B=A\n",
        "print(A==B)\n",
        "print(A is B)\n",
        "A[0]=100\n",
        "B[11]=-1\n",
        "print(A)\n",
        "print(B)\n",
        "B.shape=3,4\n",
        "print(A.shape)\n",
        "\n",
        "def f(x):\n",
        "  print(id(x))\n",
        "\n",
        "a=np.array([1,2])\n",
        "print(id(a))\n",
        "print(f(a))"
      ],
      "metadata": {
        "colab": {
          "base_uri": "https://localhost:8080/"
        },
        "id": "Jd_VgcxKNMtX",
        "outputId": "3a0e92e9-3ef4-430a-b40a-ab18cfe054d1"
      },
      "execution_count": null,
      "outputs": [
        {
          "output_type": "stream",
          "name": "stdout",
          "text": [
            "[ True  True  True  True  True  True  True  True  True  True  True  True]\n",
            "True\n",
            "[100   1   2   3   4   5   6   7   8   9  10  -1]\n",
            "[100   1   2   3   4   5   6   7   8   9  10  -1]\n",
            "(3, 4)\n",
            "132104644073424\n",
            "132104644073424\n",
            "None\n"
          ]
        }
      ]
    },
    {
      "cell_type": "code",
      "source": [
        "import numpy as np\n",
        "\n",
        "a=np.arange(12)\n",
        "b=a.view()\n",
        "\n",
        "print(a)\n",
        "print(b)\n",
        "print(b.base is a,a is b)\n",
        "\n",
        "a[0]=-1\n",
        "b[11]=100\n",
        "\n",
        "print(a)\n",
        "print(b)\n",
        "\n",
        "a.resize(3,4)\n",
        "print(a)\n",
        "print(b)\n",
        "\n",
        "a[0,2]=10000\n",
        "print(a)\n",
        "print(b)\n",
        "\n",
        "c=a[0]\n",
        "c[:]=0\n",
        "print(c)\n",
        "print(a)\n",
        "print(b)"
      ],
      "metadata": {
        "colab": {
          "base_uri": "https://localhost:8080/"
        },
        "id": "YpKGCcUORoX1",
        "outputId": "9f246372-1e6c-4966-b1fb-31dcb4c7848a"
      },
      "execution_count": null,
      "outputs": [
        {
          "output_type": "stream",
          "name": "stdout",
          "text": [
            "[ 0  1  2  3  4  5  6  7  8  9 10 11]\n",
            "[ 0  1  2  3  4  5  6  7  8  9 10 11]\n",
            "True False\n",
            "[ -1   1   2   3   4   5   6   7   8   9  10 100]\n",
            "[ -1   1   2   3   4   5   6   7   8   9  10 100]\n",
            "[[ -1   1   2   3]\n",
            " [  4   5   6   7]\n",
            " [  8   9  10 100]]\n",
            "[ -1   1   2   3   4   5   6   7   8   9  10 100]\n",
            "[[   -1     1 10000     3]\n",
            " [    4     5     6     7]\n",
            " [    8     9    10   100]]\n",
            "[   -1     1 10000     3     4     5     6     7     8     9    10   100]\n",
            "[0 0 0 0]\n",
            "[[  0   0   0   0]\n",
            " [  4   5   6   7]\n",
            " [  8   9  10 100]]\n",
            "[  0   0   0   0   4   5   6   7   8   9  10 100]\n"
          ]
        }
      ]
    },
    {
      "cell_type": "code",
      "source": [
        "import numpy as np\n",
        "\n",
        "a=np.arange(12)\n",
        "b=a.copy()\n",
        "\n",
        "print(a==b)\n",
        "print(a is b)\n",
        "print(b.base is a)\n",
        "\n",
        "a[0]=-1\n",
        "b[11]=100\n",
        "print(a)\n",
        "print(b)"
      ],
      "metadata": {
        "colab": {
          "base_uri": "https://localhost:8080/"
        },
        "id": "98eev-LzbAhs",
        "outputId": "a1f2839b-5062-45c9-b8a1-d67d6a6c7ccf"
      },
      "execution_count": null,
      "outputs": [
        {
          "output_type": "stream",
          "name": "stdout",
          "text": [
            "[ True  True  True  True  True  True  True  True  True  True  True  True]\n",
            "False\n",
            "False\n",
            "[-1  1  2  3  4  5  6  7  8  9 10 11]\n",
            "[  0   1   2   3   4   5   6   7   8   9  10 100]\n"
          ]
        }
      ]
    },
    {
      "cell_type": "code",
      "execution_count": null,
      "metadata": {
        "id": "E3it1wUthO4N",
        "colab": {
          "base_uri": "https://localhost:8080/"
        },
        "outputId": "6a975c5a-3a58-47ea-b786-a79e97be5d53"
      },
      "outputs": [
        {
          "output_type": "stream",
          "name": "stdout",
          "text": [
            "[[2 4]\n",
            " [6 8]]\n",
            "[[2 2]\n",
            " [2 2]]\n",
            "[[ 4  6]\n",
            " [ 8 10]]\n",
            "[[0 2]\n",
            " [4 6]]\n",
            "[[ 4  8]\n",
            " [12 16]]\n",
            "[[1. 2.]\n",
            " [3. 4.]]\n"
          ]
        }
      ],
      "source": [
        "import numpy as np\n",
        "A=np.array([2,4,6,8]).reshape(2,2)\n",
        "B=np.array([2,2,2,2]).reshape(2,2)\n",
        "\n",
        "print(A)\n",
        "print(B)\n",
        "print(A+B)\n",
        "print(A-B)\n",
        "print(A*B)\n",
        "print(A/B)"
      ]
    },
    {
      "cell_type": "code",
      "source": [
        "import numpy as np\n",
        "\n",
        "A=np.arange(10,130,10).reshape(3,4)\n",
        "print(A)\n",
        "B=np.arange(1,5)\n",
        "print(B)\n",
        "print(A+B)"
      ],
      "metadata": {
        "colab": {
          "base_uri": "https://localhost:8080/"
        },
        "id": "0WL-rQ2SD-Y5",
        "outputId": "d7279d2b-9344-4e8f-880e-23b5ef9e3871"
      },
      "execution_count": null,
      "outputs": [
        {
          "output_type": "stream",
          "name": "stdout",
          "text": [
            "[[ 10  20  30  40]\n",
            " [ 50  60  70  80]\n",
            " [ 90 100 110 120]]\n",
            "[1 2 3 4]\n",
            "[[ 11  22  33  44]\n",
            " [ 51  62  73  84]\n",
            " [ 91 102 113 124]]\n"
          ]
        }
      ]
    },
    {
      "cell_type": "code",
      "source": [
        "import numpy as np\n",
        "\n",
        "A=np.arange(10,130,10).reshape(3,4)\n",
        "print(A)\n",
        "B=5\n",
        "print(B)\n",
        "print(A+B)"
      ],
      "metadata": {
        "colab": {
          "base_uri": "https://localhost:8080/"
        },
        "id": "OPYhEM5rk_or",
        "outputId": "8f879e37-600e-4cb7-bfaa-ac3656d75122"
      },
      "execution_count": null,
      "outputs": [
        {
          "output_type": "stream",
          "name": "stdout",
          "text": [
            "[[ 10  20  30  40]\n",
            " [ 50  60  70  80]\n",
            " [ 90 100 110 120]]\n",
            "5\n",
            "[[ 15  25  35  45]\n",
            " [ 55  65  75  85]\n",
            " [ 95 105 115 125]]\n"
          ]
        }
      ]
    },
    {
      "cell_type": "code",
      "source": [
        "import numpy as np\n",
        "\n",
        "A=np.array([[7,2],[-7,5]])\n",
        "b=np.array([-5,12])\n",
        "\n",
        "invA=np.linalg.inv(A)\n",
        "x=np.dot(invA,b)\n",
        "print(x)"
      ],
      "metadata": {
        "colab": {
          "base_uri": "https://localhost:8080/"
        },
        "id": "PY-Bs81mlN70",
        "outputId": "fc92892c-206a-4747-fb10-d1c198f80ced"
      },
      "execution_count": null,
      "outputs": [
        {
          "output_type": "stream",
          "name": "stdout",
          "text": [
            "[-1.  1.]\n"
          ]
        }
      ]
    },
    {
      "cell_type": "code",
      "source": [
        "import numpy as np\n",
        "\n",
        "A=np.array([[7,2],[-7,5]])\n",
        "b=np.array([-5,12])\n",
        "x=np.linalg.solve(A,b)\n",
        "print(x)"
      ],
      "metadata": {
        "colab": {
          "base_uri": "https://localhost:8080/"
        },
        "id": "lhZPLq88pkzt",
        "outputId": "c20c8464-b8c2-44bd-8c38-996d4f9e8938"
      },
      "execution_count": null,
      "outputs": [
        {
          "output_type": "stream",
          "name": "stdout",
          "text": [
            "[-1.  1.]\n"
          ]
        }
      ]
    },
    {
      "cell_type": "code",
      "source": [
        "import numpy as np\n",
        "import matplotlib.pyplot as plt\n",
        "\n",
        "A=np.array([[7,2],[-7,5]])\n",
        "b=np.array([-5,12])\n",
        "x=np.linalg.solve(A,b)\n",
        "\n",
        "x1,y1=x\n",
        "print(x1,y1)\n",
        "\n",
        "fig=plt.figure()\n",
        "ax=fig.add_subplot(1,1,1)\n",
        "\n",
        "a1=A[:,0]\n",
        "b1=A[:,1]\n",
        "c1=-b\n",
        "\n",
        "for c1,c2,c3 in zip(A[:,0],A[:,1],b):\n",
        "  x=np.linspace(-7,7,100)\n",
        "  y=(c3-c1*x)/c2\n",
        "  ax.plot(x,y,color=\"black\")\n",
        "\n",
        "ax.plot(x1,y1,'ro')\n",
        "ax.axis([-7,7,-7,7])\n",
        "ax.set_xticks(range(-7,7))\n",
        "ax.set_yticks(range(-7,7))\n",
        "ax.grid()\n",
        "ax.set_axisbelow(True)\n",
        "ax.set_aspect('auto',adjustable='box')\n",
        "ax.spines['left'].set_position('zero')\n",
        "ax.spines['bottom'].set_position('zero')\n",
        "ax.spines['right'].set_color('none')\n",
        "ax.spines['top'].set_color('none')\n",
        "plt.show()"
      ],
      "metadata": {
        "colab": {
          "base_uri": "https://localhost:8080/",
          "height": 433
        },
        "id": "zDl7W_1XsZbC",
        "outputId": "ae2d4236-88f1-4b4b-f11d-0aea5a8d0492"
      },
      "execution_count": null,
      "outputs": [
        {
          "output_type": "stream",
          "name": "stdout",
          "text": [
            "-1.0 1.0\n"
          ]
        },
        {
          "output_type": "display_data",
          "data": {
            "text/plain": [
              "<Figure size 640x480 with 1 Axes>"
            ],
            "image/png": "[encoded data removed]"
          },
          "metadata": {}
        }
      ]
    },
    {
      "cell_type": "code",
      "source": [
        "import numpy as np\n",
        "import matplotlib.pyplot as plt\n",
        "a1=np.array([7,-7])\n",
        "a2=np.array([2,5])\n",
        "b=np.array([-5,12])\n",
        "\n",
        "A=np.column_stack((a1,a2))\n",
        "x=np.linalg.solve(A,b)\n",
        "\n",
        "x1,y1=x\n",
        "a1=a1*x1\n",
        "a2=a2*y1\n",
        "fig=plt.figure()\n",
        "ax=fig.add_subplot(1,1,1)\n",
        "\n",
        "ax.quiver(0,0,a1[0],a1[1],angles='xy',scale_units='xy',scale=1)\n",
        "ax.text(a1[0]-1,a1[1],'a1',size=15)\n",
        "ax.quiver(0,0,a2[0],a2[1],angles='xy',scale_units='xy',scale=1)\n",
        "ax.text(a2[0],a2[1],'a1',size=15)\n",
        "ax.quiver(0,0,b[0],b[1],angles='xy',scale_units='xy',scale=1)\n",
        "ax.text(b[0],b[1],'b',size=15,color='blue')\n",
        "\n",
        "ax.set_xticks(range(-10,5))\n",
        "ax.set_yticks(range(-3,15))\n",
        "ax.grid()\n",
        "ax.set_axisbelow(True)\n",
        "ax.set_aspect('auto',adjustable='box')\n",
        "ax.spines['left'].set_position('zero')\n",
        "ax.spines['bottom'].set_position('zero')\n",
        "ax.spines['right'].set_color('none')\n",
        "ax.spines['top'].set_color('none')\n",
        "plt.show()"
      ],
      "metadata": {
        "colab": {
          "base_uri": "https://localhost:8080/",
          "height": 420
        },
        "id": "_G7QTJJe5opy",
        "outputId": "4315d399-d371-49ce-d289-f38614974340"
      },
      "execution_count": null,
      "outputs": [
        {
          "output_type": "display_data",
          "data": {
            "text/plain": [
              "<Figure size 640x480 with 1 Axes>"
            ],
            "image/png": "[encoded data removed]"
          },
          "metadata": {}
        }
      ]
    },
    {
      "cell_type": "code",
      "source": [
        "import numpy as np\n",
        "import matplotlib.pyplot as plt\n",
        "\n",
        "A=np.array([[5,5],[5,5]])\n",
        "b=np.array([10,20])\n",
        "a1=A[:,0]\n",
        "b1=A[:,1]\n",
        "c1=-b\n",
        "\n",
        "fig=plt.figure()\n",
        "ax=fig.add_subplot(1,1,1)\n",
        "\n",
        "for c1,c2,c3 in zip(A[:,0],A[:,1],b):\n",
        "  if c2==0:\n",
        "    y=np.linspace(-20,20,100)\n",
        "    x=(c3-c2&y)/c1\n",
        "    plt.plot(x,y,color=\"black\")\n",
        "  else:\n",
        "    x=np.linspace(-20,20,100)\n",
        "    y=(c3-c1*x)/c2\n",
        "    plt.plot(x,y,color=\"black\")\n",
        "\n",
        "ax.axis([-7,7,-7,7])\n",
        "ax.set_xticks(range(-7,7))\n",
        "ax.set_yticks(range(-7,7))\n",
        "ax.grid()\n",
        "ax.set_axisbelow(True)\n",
        "ax.set_aspect('auto',adjustable='box')\n",
        "ax.spines['left'].set_position('zero')\n",
        "ax.spines['bottom'].set_position('zero')\n",
        "ax.spines['right'].set_color('none')\n",
        "ax.spines['top'].set_color('none')\n",
        "plt.show()"
      ],
      "metadata": {
        "colab": {
          "base_uri": "https://localhost:8080/",
          "height": 415
        },
        "id": "Sd9ORWalXKNA",
        "outputId": "7fee4dfd-5830-4b14-d80e-f5ce5bbe0947"
      },
      "execution_count": null,
      "outputs": [
        {
          "output_type": "display_data",
          "data": {
            "text/plain": [
              "<Figure size 640x480 with 1 Axes>"
            ],
            "image/png": "[encoded data removed]"
          },
          "metadata": {}
        }
      ]
    },
    {
      "cell_type": "code",
      "source": [
        "import numpy as np\n",
        "import matplotlib.pyplot as plt\n",
        "\n",
        "A=np.array([[5,5],[5,5]])\n",
        "b=np.array([10,20])\n",
        "a1=A[:,0]\n",
        "a2=A[:,1]\n",
        "\n",
        "fig=plt.figure()\n",
        "ax=fig.add_subplot(1,1,1)\n",
        "\n",
        "line_x=[]\n",
        "line_y=[]\n",
        "for c1 in np.linspace(-5,25,25):\n",
        "  for c2 in np.linspace(-5,25,25):\n",
        "    c1_a1=a1*c1\n",
        "    c2_a2=a2*c2\n",
        "    sum=c1_a1+c2_a2\n",
        "    line_x.append(sum[0])\n",
        "    line_y.append(sum[1])\n",
        "plt.plot(line_x,line_y,color='red',zorder=1)\n",
        "plt.quiver(0,0,a1[0],a1[1],angles='xy',scale_units='xy',scale=1,zorder=2)\n",
        "plt.text(a1[0],a1[1],'a1=a2',size=15,zorder=2)\n",
        "plt.quiver(0,0,a2[0],a2[1],angles='xy',scale_units='xy',scale=1,zorder=2)\n",
        "plt.quiver(0,0,b[0],b[1],angles='xy',scale_units='xy',scale=1,color='blue')\n",
        "plt.text(b[0],b[1],'b',size=15)\n",
        "\n",
        "ax.axis([-3,12,-3,22])\n",
        "ax.set_xticks(range(-3,12))\n",
        "ax.set_yticks(range(-3,22))\n",
        "ax.grid()\n",
        "ax.set_axisbelow(True)\n",
        "ax.set_aspect('auto',adjustable='box')\n",
        "ax.spines['left'].set_position('zero')\n",
        "ax.spines['bottom'].set_position('zero')\n",
        "ax.spines['right'].set_color('none')\n",
        "ax.spines['top'].set_color('none')\n",
        "plt.show()"
      ],
      "metadata": {
        "colab": {
          "base_uri": "https://localhost:8080/",
          "height": 415
        },
        "id": "9qAnfkxrZGe_",
        "outputId": "4e0ea1ad-e7f4-4415-d04a-5a2165052d27"
      },
      "execution_count": null,
      "outputs": [
        {
          "output_type": "display_data",
          "data": {
            "text/plain": [
              "<Figure size 640x480 with 1 Axes>"
            ],
            "image/png": "[encoded data removed]"
          },
          "metadata": {}
        }
      ]
    },
    {
      "cell_type": "code",
      "source": [
        "import numpy as np\n",
        "import matplotlib.pyplot as plt\n",
        "\n",
        "A=np.array([[1,1],[2,2]])\n",
        "b=np.array([10,20])\n",
        "a1=A[:,0]\n",
        "a2=A[:,1]\n",
        "c1=-b\n",
        "fig=plt.figure()\n",
        "ax=fig.add_subplot(1,1,1)\n",
        "for c1,c2,c3 in zip(A[:,0],A[:,1],b):\n",
        "  if c2==0:\n",
        "    y=np.linspace(-20,20,100)\n",
        "    x=(c3-c2*y)/c1\n",
        "    plt.plot(x,y,color=\"black\")\n",
        "  else:\n",
        "    x=np.linspace(-20,20,100)\n",
        "    y=(c3-c1*x)/c2\n",
        "    plt.plot(x,y,color=\"black\")\n",
        "\n",
        "ax.axis([-3,12,-3,15])\n",
        "ax.set_xticks(range(-3,12))\n",
        "ax.set_yticks(range(-3,15))\n",
        "ax.grid()\n",
        "ax.set_axisbelow(True)\n",
        "ax.set_aspect('auto',adjustable='box')\n",
        "ax.spines['left'].set_position('zero')\n",
        "ax.spines['bottom'].set_position('zero')\n",
        "ax.spines['right'].set_color('none')\n",
        "ax.spines['top'].set_color('none')\n",
        "plt.show()"
      ],
      "metadata": {
        "colab": {
          "base_uri": "https://localhost:8080/",
          "height": 415
        },
        "id": "t8vEV9Vv7Wl8",
        "outputId": "6606a7a0-7aae-466f-dd3a-580678b18605"
      },
      "execution_count": null,
      "outputs": [
        {
          "output_type": "display_data",
          "data": {
            "text/plain": [
              "<Figure size 640x480 with 1 Axes>"
            ],
            "image/png": "[encoded data removed]"
          },
          "metadata": {}
        }
      ]
    },
    {
      "cell_type": "code",
      "source": [
        "import numpy as np\n",
        "import matplotlib.pyplot as plt\n",
        "\n",
        "A=np.array([[1,1],[2,2]])\n",
        "b=np.array([10,20])\n",
        "a1=A[:,0]\n",
        "a2=A[:,1]\n",
        "c1=-b\n",
        "fig=plt.figure()\n",
        "ax=fig.add_subplot(1,1,1)\n",
        "\n",
        "line_x=[]\n",
        "line_y=[]\n",
        "for c1 in np.linspace(-5,25,25):\n",
        "  for c2 in np.linspace(-5,25,25):\n",
        "    c1_a1=a1*c1\n",
        "    c2_a2=a1*c2\n",
        "    sum=c1_a1+c2_a2\n",
        "    line_x.append(sum[0])\n",
        "    line_y.append(sum[1])\n",
        "plt.plot(line_x,line_y,color='red',zorder=1)\n",
        "plt.quiver(0,0,a1[0],a1[1],angles='xy',scale_units='xy',scale=1,zorder=2)\n",
        "plt.quiver(0,0,a2[0],a2[1],angles='xy',scale_units='xy',scale=1,zorder=2)\n",
        "plt.quiver(0,0,b[0],b[1],angles='xy',scale_units='xy',scale=1,color='blue')\n",
        "plt.text(a1[0]+0.5,a1[1],'a1=a2',size=15,zorder=2)\n",
        "plt.text(b[0],b[1],'b',size=15)\n",
        "\n",
        "ax.axis([-3,12,-3,22])\n",
        "ax.set_xticks(range(-3,12))\n",
        "ax.set_yticks(range(-3,22))\n",
        "ax.grid()\n",
        "ax.set_axisbelow(True)\n",
        "ax.set_aspect('auto',adjustable='box')\n",
        "ax.spines['left'].set_position('zero')\n",
        "ax.spines['bottom'].set_position('zero')\n",
        "ax.spines['right'].set_color('none')\n",
        "ax.spines['top'].set_color('none')\n",
        "plt.show()"
      ],
      "metadata": {
        "id": "A5SPOT7dmtlo",
        "colab": {
          "base_uri": "https://localhost:8080/",
          "height": 415
        },
        "outputId": "348aba68-1887-4115-8665-c7b482ef8d68"
      },
      "execution_count": 4,
      "outputs": [
        {
          "output_type": "display_data",
          "data": {
            "text/plain": [
              "<Figure size 640x480 with 1 Axes>"
            ],
            "image/png": "[encoded data removed]"
          },
          "metadata": {}
        }
      ]
    },
    {
      "cell_type": "code",
      "source": [
        "import numpy as np\n",
        "\n",
        "A=np.array([[1,2,3],[1,5,1]])\n",
        "b=np.array([2,1])\n",
        "x=np.linalg.lstsq(A,b,rcond=-1)[0]\n",
        "print(x)"
      ],
      "metadata": {
        "colab": {
          "base_uri": "https://localhost:8080/"
        },
        "id": "UKC8GhK2xL1j",
        "outputId": "8fc540b8-930d-42fd-c589-5ff92d090d87"
      },
      "execution_count": 5,
      "outputs": [
        {
          "output_type": "stream",
          "name": "stdout",
          "text": [
            "[0.14285714 0.05494505 0.58241758]\n"
          ]
        }
      ]
    },
    {
      "cell_type": "code",
      "source": [
        "import numpy as np\n",
        "import matplotlib.pyplot as plt\n",
        "from mpl_toolkits.mplot3d import Axes3D\n",
        "import numpy as np\n",
        "\n",
        "\n",
        "A=np.array([[1,2,3],[1,5,1]])\n",
        "b_=np.array([2,1])\n",
        "x=np.linalg.lstsq(A,b_,rcond=-1)[0]\n",
        "fig=plt.figure()\n",
        "\n",
        "ax = fig.add_subplot(projection='3d')\n",
        "dim=10\n",
        "a1=A[0]\n",
        "a2=A[1]\n",
        "a=a1[0]\n",
        "b=a1[1]\n",
        "c=a1[2]\n",
        "d=-b_[0]\n",
        "X1,Y1=np.meshgrid([-dim,dim],[-dim,dim])\n",
        "Z1=(d-a*X1-b*Y1)/c\n",
        "a=a2[0]\n",
        "b=a2[1]\n",
        "c=a2[2]\n",
        "d=-b_[1]\n",
        "X2,Y2=np.meshgrid([-dim,dim],[-dim,dim])\n",
        "Z2=(d-a*X2-b*Y2)/c\n",
        "v=np.cross(a1,a2)\n",
        "for t in np.linspace(-1,1,10):\n",
        "  x1=x[0]+v[0]*t\n",
        "  y1=x[1]+v[1]*t\n",
        "  z1=x[2]+v[2]*t\n",
        "  ax.scatter(x1,y1,z1,color='blue',zorder=4)\n",
        "ax.plot_surface(X1,Y1,Z1,color='red',alpha=.3,linewidth=0,zorder=1)\n",
        "ax.plot_surface(X2,Y2,Z2,color='blue',alpha=.3,linewidth=0,zorder=3)\n",
        "ax.scatter(x[0],x[1],x[2],color='red',zorder=5)\n",
        "plt.show()"
      ],
      "metadata": {
        "colab": {
          "base_uri": "https://localhost:8080/",
          "height": 408
        },
        "id": "DiaR6Y5Rxswx",
        "outputId": "8f21b4c2-e8b2-40a3-85c0-10107687c9a2"
      },
      "execution_count": 12,
      "outputs": [
        {
          "output_type": "display_data",
          "data": {
            "text/plain": [
              "<Figure size 640x480 with 1 Axes>"
            ],
            "image/png": "[encoded data removed]"
          },
          "metadata": {}
        }
      ]
    },
    {
      "cell_type": "code",
      "source": [
        "import numpy as np\n",
        "\n",
        "A=np.array([[0,1],[-2,1],[2,1]])\n",
        "b=np.array([-1,-4,8])\n",
        "x=np.linalg.lstsq(A,b,rcond=-1)[0]\n",
        "print(x)"
      ],
      "metadata": {
        "colab": {
          "base_uri": "https://localhost:8080/"
        },
        "id": "DC73FrLeD58U",
        "outputId": "982a0e7d-dc52-40c7-b734-aeb706d815ad"
      },
      "execution_count": 13,
      "outputs": [
        {
          "output_type": "stream",
          "name": "stdout",
          "text": [
            "[3. 1.]\n"
          ]
        }
      ]
    },
    {
      "cell_type": "code",
      "source": [
        "import numpy as np\n",
        "import matplotlib.pyplot as plt\n",
        "\n",
        "A=np.array([[0,1],[-2,1],[2,1]])\n",
        "b=np.array([-1,-4,8])\n",
        "x=np.linalg.lstsq(A,b,rcond=-1)[0]\n",
        "x1,y1=x\n",
        "a1=A[:,0]\n",
        "b1=A[:,1]\n",
        "c1=-b\n",
        "fig=plt.figure()\n",
        "ax=fig.add_subplot(1,1,1)\n",
        "\n",
        "for c1,c2,c3 in zip(A[:,0],A[:,1],b):\n",
        "    x=np.linspace(-20,20,100)\n",
        "    y=(c3-c1*x)/c2\n",
        "    plt.plot(x,y,color=\"black\")\n",
        "\n",
        "plt.plot(x1,y1,'ro')\n",
        "ax.axis([-2,6,-2,6])\n",
        "ax.set_xticks(range(-2,6))\n",
        "ax.set_yticks(range(-2,6))\n",
        "ax.grid()\n",
        "ax.set_axisbelow(True)\n",
        "ax.set_aspect('auto',adjustable='box')\n",
        "ax.spines['left'].set_position('zero')\n",
        "ax.spines['bottom'].set_position('zero')\n",
        "ax.spines['right'].set_color('none')\n",
        "ax.spines['top'].set_color('none')\n",
        "plt.show()"
      ],
      "metadata": {
        "colab": {
          "base_uri": "https://localhost:8080/",
          "height": 415
        },
        "id": "NNkq_ZTvEWby",
        "outputId": "100f5c08-26ea-4b11-d551-7c712fb3e92e"
      },
      "execution_count": 14,
      "outputs": [
        {
          "output_type": "display_data",
          "data": {
            "text/plain": [
              "<Figure size 640x480 with 1 Axes>"
            ],
            "image/png": "[encoded data removed]"
          },
          "metadata": {}
        }
      ]
    },
    {
      "cell_type": "code",
      "source": [
        "import numpy as np\n",
        "\n",
        "A=np.array([10])\n",
        "B=np.array([[1,2],[3,4]])\n",
        "C=np.array([[1,2,3],[4,5,6],[7,8,9]])\n",
        "\n",
        "print(np.linalg.det(B))\n",
        "print(np.linalg.det(C))"
      ],
      "metadata": {
        "colab": {
          "base_uri": "https://localhost:8080/"
        },
        "id": "HKxWG2e3FYiO",
        "outputId": "93592988-4c75-4067-d55e-68851fee2f8a"
      },
      "execution_count": 16,
      "outputs": [
        {
          "output_type": "stream",
          "name": "stdout",
          "text": [
            "-2.0000000000000004\n",
            "0.0\n"
          ]
        }
      ]
    },
    {
      "cell_type": "code",
      "source": [
        "import numpy as np\n",
        "import matplotlib.pyplot as plt\n",
        "import matplotlib.patches as patches\n",
        "\n",
        "points=np.array([[1,1],[1,2],[2,2],[2,1]])\n",
        "A=np.array([[2,0],[0,2]])\n",
        "fig=plt.figure()\n",
        "ax=fig.add_subplot(1,1,1)\n",
        "print(np.linalg.det(A))\n",
        "\n",
        "ax.add_patch(patches.Polygon(points,fill=False,color='blue',zorder=1))\n",
        "ax.add_patch(patches.Polygon(np.dot(points,A),fill=False,color='red',zorder=2))\n",
        "ax.text(1.4,1.4,'A',size=15)\n",
        "ax.text(2.9,2.9,'B',size=15)\n",
        "ax.set_xticks(range(-1,6))\n",
        "ax.set_yticks(range(-1,6))\n",
        "ax.grid()\n",
        "ax.set_axisbelow(True)\n",
        "ax.set_aspect('auto',adjustable='box')\n",
        "ax.spines['left'].set_position('zero')\n",
        "ax.spines['bottom'].set_position('zero')\n",
        "ax.spines['right'].set_color('none')\n",
        "ax.spines['top'].set_color('none')\n",
        "plt.show()"
      ],
      "metadata": {
        "colab": {
          "base_uri": "https://localhost:8080/",
          "height": 438
        },
        "id": "LjwmuNXTGdaV",
        "outputId": "d5b782e6-9eca-4bbe-f214-61fede32b7ac"
      },
      "execution_count": 17,
      "outputs": [
        {
          "output_type": "stream",
          "name": "stdout",
          "text": [
            "4.0\n"
          ]
        },
        {
          "output_type": "display_data",
          "data": {
            "text/plain": [
              "<Figure size 640x480 with 1 Axes>"
            ],
            "image/png": "[encoded data removed]"
          },
          "metadata": {}
        }
      ]
    },
    {
      "cell_type": "code",
      "source": [
        "import numpy as np\n",
        "\n",
        "A=np.array([[3,2],[4,1]])\n",
        "print(\"A\")\n",
        "print(A)\n",
        "print()\n",
        "eigenvalue,eigenvector=np.linalg.eig(A)\n",
        "print(\"Eigne-Value\")\n",
        "print(eigenvalue)\n",
        "print(\"Eigen-vector\")\n",
        "print(eigenvector)\n",
        "print()\n",
        "\n",
        "eigenvector1=eigenvector[:,0]\n",
        "eigenvector2=eigenvector[:,1]\n",
        "eigenvalue1=eigenvalue[0]\n",
        "eigenvalue2=eigenvalue[1]\n",
        "\n",
        "print(\"lambda*eigenvector==A*eigenvector\")\n",
        "print(eigenvalue1*eigenvector1,np.dot(A,eigenvector1))\n",
        "print(eigenvalue2*eigenvector2,np.dot(A,eigenvector2))"
      ],
      "metadata": {
        "colab": {
          "base_uri": "https://localhost:8080/"
        },
        "id": "7uERTO_ORryE",
        "outputId": "802f7df1-d892-4c11-ac5c-9a1723217084"
      },
      "execution_count": 22,
      "outputs": [
        {
          "output_type": "stream",
          "name": "stdout",
          "text": [
            "A\n",
            "[[3 2]\n",
            " [4 1]]\n",
            "\n",
            "Eigne-Value\n",
            "[ 5. -1.]\n",
            "Eigen-vector\n",
            "[[ 0.70710678 -0.4472136 ]\n",
            " [ 0.70710678  0.89442719]]\n",
            "\n",
            "lambda*eigenvector==A*eigenvector\n",
            "[3.53553391 3.53553391] [3.53553391 3.53553391]\n",
            "[ 0.4472136  -0.89442719] [ 0.4472136  -0.89442719]\n"
          ]
        }
      ]
    },
    {
      "cell_type": "code",
      "source": [
        "import numpy as np\n",
        "import matplotlib.pyplot as plt\n",
        "\n",
        "A=np.array([[4,3],[1,-2]])\n",
        "eigenvalue,eigenvector=np.linalg.eig(A)\n",
        "eigenvector1=eigenvector[:,0]\n",
        "eigenvector2=eigenvector[:,1]\n",
        "lambda1=eigenvalue[0]\n",
        "lambda2=eigenvalue[1]\n",
        "f,ax=plt.subplots(1,3)\n",
        "ax[0].title.set_text('v')\n",
        "ax[1].title.set_text('Av')\n",
        "ax[2].title.set_text('lamvdav')\n",
        "\n",
        "s1=np.dot(A,eigenvector1)\n",
        "s2=np.dot(A,eigenvector2)\n",
        "w1=np.dot(eigenvector1,lambda1)\n",
        "w2=np.dot(eigenvector2,lambda2)\n",
        "\n",
        "ax[0].quiver(0,0,eigenvector1[0],eigenvector1[1],angles='xy',scale_units='xy',scale=1,color='black')\n",
        "ax[0].quiver(0,0,eigenvector2[0],eigenvector2[1],angles='xy',scale_units='xy',scale=1,color='black')\n",
        "ax[0].text(eigenvector1[0],eigenvector1[1],'v1',size=10)\n",
        "ax[0].text(eigenvector2[0],eigenvector2[1],'v2',size=10)\n",
        "\n",
        "ax[1].quiver(0,0,s1[0],s1[1],angles='xy',scale_units='xy',scale=1,color='red')\n",
        "ax[1].quiver(0,0,s2[0],s2[1],angles='xy',scale_units='xy',scale=1,color='red')\n",
        "ax[1].text(s1[0],s1[1],'v1',size=10)\n",
        "ax[1].text(s2[0],s2[1],'v2',size=10)\n",
        "\n",
        "ax[2].quiver(0,0,w1[0],w1[1],angles='xy',scale_units='xy',scale=1,color='blue')\n",
        "ax[2].quiver(0,0,w2[0],w2[1],angles='xy',scale_units='xy',scale=1,color='blue')\n",
        "ax[2].text(w1[0],w1[1],'{:.2f}v1'.format(lambda1),size=10)\n",
        "ax[2].text(w2[0],w2[1],'{:.2f}v2'.format(lambda2),size=10)\n",
        "\n",
        "start_x=-1\n",
        "end_x=6\n",
        "start_y=-3\n",
        "end_y=3\n",
        "for i in range(3):\n",
        "  ax[i].axis([start_x,end_x,start_y,end_y])\n",
        "  ax[i].set_xticks(range(start_x,end_x))\n",
        "  ax[i].set_yticks(range(start_y,end_y))\n",
        "  ax[i].grid(True)\n",
        "  ax[i].set_aspect('equal',adjustable='box')\n",
        "plt.show()"
      ],
      "metadata": {
        "colab": {
          "base_uri": "https://localhost:8080/",
          "height": 208
        },
        "id": "UJgc71GXgjm9",
        "outputId": "9a485769-6ce4-414f-cf2a-5d271e5c676f"
      },
      "execution_count": 26,
      "outputs": [
        {
          "output_type": "display_data",
          "data": {
            "text/plain": [
              "<Figure size 640x480 with 3 Axes>"
            ],
            "image/png": "[encoded data removed]"
          },
          "metadata": {}
        }
      ]
    },
    {
      "cell_type": "code",
      "source": [],
      "metadata": {
        "id": "hh30slNXtZuI"
      },
      "execution_count": null,
      "outputs": []
    },
    {
      "cell_type": "markdown",
      "source": [],
      "metadata": {
        "id": "n8R8M4Y3sKar"
      }
    }
  ],
  "metadata": {
    "colab": {
      "provenance": [],
      "authorship_tag": "ABX9TyP1SIJigYCbMOJ6LNYBnqqZ",
      "include_colab_link": true
    },
    "kernelspec": {
      "display_name": "Python 3",
      "name": "python3"
    },
    "language_info": {
      "name": "python"
    }
  },
  "nbformat": 4,
  "nbformat_minor": 0
}